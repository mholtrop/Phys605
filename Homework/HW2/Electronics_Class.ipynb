{
 "cells": [
  {
   "cell_type": "markdown",
   "metadata": {},
   "source": [
    "# The 605 Electronics Class in Python\n",
    "\n",
    "This is a quick example on use the code concept of a \"class\". All object oriented programming languages (C++, Java, Python,... ) have the concept of a class. A class is an \"object\" in the programming language which contains data and has a number of methods, or functions, that allow you to manipulate (\"do things with\") the data. A class is a good way to extend the capabilities of a language.\n",
    "\n",
    "To see how this class is implemented, and to make changes, look in the file Electronics.py"
   ]
  },
  {
   "cell_type": "code",
   "execution_count": 1,
   "metadata": {},
   "outputs": [],
   "source": [
    "import math\n",
    "from Electronics import Resistor"
   ]
  },
  {
   "cell_type": "code",
   "execution_count": 2,
   "metadata": {},
   "outputs": [
    {
     "name": "stdout",
     "output_type": "stream",
     "text": [
      "1000.00Ω, 0.12W\n"
     ]
    }
   ],
   "source": [
    "R = Resistor(1000,1./8.)          # Define a resistor of 1kOhm\n",
    "print(R)"
   ]
  },
  {
   "cell_type": "code",
   "execution_count": 3,
   "outputs": [
    {
     "data": {
      "text/plain": "3000Ω,0.375W"
     },
     "execution_count": 3,
     "metadata": {},
     "output_type": "execute_result"
    }
   ],
   "source": [
    "R+R+R"
   ],
   "metadata": {
    "collapsed": false
   }
  },
  {
   "cell_type": "code",
   "execution_count": 4,
   "outputs": [
    {
     "data": {
      "text/plain": "333.3333333333333Ω,0.375W"
     },
     "execution_count": 4,
     "metadata": {},
     "output_type": "execute_result"
    }
   ],
   "source": [
    "R|R|R"
   ],
   "metadata": {
    "collapsed": false
   }
  },
  {
   "cell_type": "code",
   "execution_count": 2,
   "outputs": [],
   "source": [
    "import sys"
   ],
   "metadata": {
    "collapsed": false
   }
  },
  {
   "cell_type": "code",
   "execution_count": 3,
   "outputs": [
    {
     "data": {
      "text/plain": "['/Users/maurik/Library/CloudStorage/OneDrive-USNH/Phys605/code/Homework/HW2',\n '/Users/maurik/root/master/lib',\n '/Users/maurik/lib/Python',\n '/Users/maurik/miniforge3/envs/C/lib/python39.zip',\n '/Users/maurik/miniforge3/envs/C/lib/python3.9',\n '/Users/maurik/miniforge3/envs/C/lib/python3.9/lib-dynload',\n '',\n '/Users/maurik/miniforge3/envs/C/lib/python3.9/site-packages']"
     },
     "execution_count": 3,
     "metadata": {},
     "output_type": "execute_result"
    }
   ],
   "source": [
    "sys.path"
   ],
   "metadata": {
    "collapsed": false
   }
  },
  {
   "cell_type": "code",
   "execution_count": 4,
   "outputs": [],
   "source": [
    "sys.path.append(\"/Users/maurik\")"
   ],
   "metadata": {
    "collapsed": false
   }
  },
  {
   "cell_type": "code",
   "execution_count": 5,
   "outputs": [
    {
     "data": {
      "text/plain": "['/Users/maurik/Library/CloudStorage/OneDrive-USNH/Phys605/code/Homework/HW2',\n '/Users/maurik/root/master/lib',\n '/Users/maurik/lib/Python',\n '/Users/maurik/miniforge3/envs/C/lib/python39.zip',\n '/Users/maurik/miniforge3/envs/C/lib/python3.9',\n '/Users/maurik/miniforge3/envs/C/lib/python3.9/lib-dynload',\n '',\n '/Users/maurik/miniforge3/envs/C/lib/python3.9/site-packages',\n '/Users/maurik']"
     },
     "execution_count": 5,
     "metadata": {},
     "output_type": "execute_result"
    }
   ],
   "source": [
    "sys.path"
   ],
   "metadata": {
    "collapsed": false
   }
  },
  {
   "cell_type": "code",
   "execution_count": null,
   "outputs": [],
   "source": [],
   "metadata": {
    "collapsed": false
   }
  }
 ],
 "metadata": {
  "kernelspec": {
   "display_name": "Python 3",
   "language": "python",
   "name": "python3"
  },
  "language_info": {
   "codemirror_mode": {
    "name": "ipython",
    "version": 3
   },
   "file_extension": ".py",
   "mimetype": "text/x-python",
   "name": "python",
   "nbconvert_exporter": "python",
   "pygments_lexer": "ipython3",
   "version": "3.8.7"
  }
 },
 "nbformat": 4,
 "nbformat_minor": 4
}
